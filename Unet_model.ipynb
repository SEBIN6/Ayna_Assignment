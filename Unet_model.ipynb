{
  "nbformat": 4,
  "nbformat_minor": 0,
  "metadata": {
    "colab": {
      "provenance": [],
      "gpuType": "T4",
      "authorship_tag": "ABX9TyNMn6kWW7JwN6bkGjPNXwDx",
      "include_colab_link": true
    },
    "kernelspec": {
      "name": "python3",
      "display_name": "Python 3"
    },
    "language_info": {
      "name": "python"
    },
    "accelerator": "GPU"
  },
  "cells": [
    {
      "cell_type": "markdown",
      "metadata": {
        "id": "view-in-github",
        "colab_type": "text"
      },
      "source": [
        "<a href=\"https://colab.research.google.com/github/SEBIN6/Ayna_Assignment/blob/main/Unet_model.ipynb\" target=\"_parent\"><img src=\"https://colab.research.google.com/assets/colab-badge.svg\" alt=\"Open In Colab\"/></a>"
      ]
    },
    {
      "cell_type": "markdown",
      "source": [
        "## UNZIPPING DATA"
      ],
      "metadata": {
        "id": "YRHXxP0Y96Tv"
      }
    },
    {
      "cell_type": "code",
      "execution_count": 1,
      "metadata": {
        "id": "zfGKBzcq6G7g"
      },
      "outputs": [],
      "source": [
        "import zipfile\n",
        "import os\n",
        "\n",
        "!unzip -q dataset.zip -d dataset"
      ]
    },
    {
      "cell_type": "code",
      "source": [
        "!pip install wandb --quiet\n",
        "import wandb\n"
      ],
      "metadata": {
        "id": "O-t3j6Wo6Pol"
      },
      "execution_count": 2,
      "outputs": []
    },
    {
      "cell_type": "markdown",
      "source": [
        "## DATASET CLASS"
      ],
      "metadata": {
        "id": "cqLntln26T0E"
      }
    },
    {
      "cell_type": "code",
      "source": [
        "import os\n",
        "import json\n",
        "import torch\n",
        "from torch.utils.data import Dataset\n",
        "from PIL import Image\n",
        "\n",
        "class PolygonColorDataset(Dataset):\n",
        "    def __init__(self, root_dir, transform=None):\n",
        "        self.input_dir = os.path.join(root_dir, \"inputs\")\n",
        "        self.output_dir = os.path.join(root_dir, \"outputs\")\n",
        "        self.transform = transform\n",
        "\n",
        "        with open(os.path.join(root_dir, \"data.json\")) as f:\n",
        "            self.data = json.load(f)\n",
        "\n",
        "\n",
        "        self.color_map = {\n",
        "            \"red\": [1, 0, 0],\n",
        "            \"green\": [0, 1, 0],\n",
        "            \"blue\": [0, 0, 1],\n",
        "            \"yellow\": [1, 1, 0],\n",
        "            \"cyan\": [0, 1, 1],\n",
        "            \"magenta\": [1, 0, 1],\n",
        "            \"black\": [0, 0, 0],\n",
        "            \"white\": [1, 1, 1],\n",
        "            \"orange\": [1, 0.5, 0],       #\n",
        "            \"purple\": [0.5, 0, 0.5],\n",
        "        }\n",
        "\n",
        "    def __len__(self):\n",
        "        return len(self.data)\n",
        "\n",
        "    def __getitem__(self, idx):\n",
        "        item = self.data[idx]\n",
        "\n",
        "        input_name = item.get(\"input_polygon\") or item.get(\"input\") or item.get(\"input_file\")\n",
        "        output_name = item.get(\"output_image\") or item.get(\"output\") or item.get(\"output_file\")\n",
        "        color_name = item.get(\"colour\") or item.get(\"color\")\n",
        "\n",
        "        if input_name is None or output_name is None or color_name is None:\n",
        "            raise KeyError(f\"Missing expected keys in data item: {item}\")\n",
        "\n",
        "        input_path = os.path.join(self.input_dir, input_name)\n",
        "        output_path = os.path.join(self.output_dir, output_name)\n",
        "\n",
        "        if not os.path.exists(input_path):\n",
        "            raise FileNotFoundError(f\"Input image not found: {input_path}\")\n",
        "        if not os.path.exists(output_path):\n",
        "            raise FileNotFoundError(f\"Output image not found: {output_path}\")\n",
        "\n",
        "        input_img = Image.open(input_path).convert(\"L\")  # grayscale\n",
        "        output_img = Image.open(output_path).convert(\"RGB\")  # target colored\n",
        "\n",
        "        if self.transform:\n",
        "            input_img = self.transform(input_img)\n",
        "            output_img = self.transform(output_img)\n",
        "        else:\n",
        "\n",
        "            import torchvision.transforms as T\n",
        "            to_tensor = T.ToTensor()\n",
        "            input_img = to_tensor(input_img)\n",
        "            output_img = to_tensor(output_img)\n",
        "\n",
        "        # color vector (lowercase)\n",
        "        color_key = color_name.lower()\n",
        "        if color_key not in self.color_map:\n",
        "            # fallback: try approximate or default to black\n",
        "            print(f\"Warning: color '{color_name}' not in map, defaulting to black\")\n",
        "            color_vec = torch.tensor(self.color_map[\"black\"], dtype=torch.float32)\n",
        "        else:\n",
        "            color_vec = torch.tensor(self.color_map[color_key], dtype=torch.float32)\n",
        "\n",
        "        return input_img, color_vec, output_img\n"
      ],
      "metadata": {
        "id": "8A6aSObD6Xqp"
      },
      "execution_count": 3,
      "outputs": []
    },
    {
      "cell_type": "markdown",
      "source": [
        "## UNET"
      ],
      "metadata": {
        "id": "SWKyHajV6bSH"
      }
    },
    {
      "cell_type": "code",
      "source": [
        "import torch\n",
        "import torch.nn as nn\n",
        "import torchvision.transforms as T\n",
        "import torch.nn.functional as F\n",
        "\n",
        "class UNet(nn.Module):\n",
        "    def __init__(self, input_channels=1, output_channels=3):\n",
        "        super(UNet, self).__init__()\n",
        "\n",
        "        def conv_block(in_c, out_c):\n",
        "            return nn.Sequential(\n",
        "                nn.Conv2d(in_c, out_c, 3, padding=1),\n",
        "                nn.ReLU(inplace=True),\n",
        "                nn.Conv2d(out_c, out_c, 3, padding=1),\n",
        "                nn.ReLU(inplace=True)\n",
        "            )\n",
        "\n",
        "        # Encoder path - input is now 1 channel (grayscale)\n",
        "        self.enc1 = conv_block(input_channels, 64)\n",
        "        self.pool1 = nn.MaxPool2d(2)\n",
        "        self.enc2 = conv_block(64, 128)\n",
        "        self.pool2 = nn.MaxPool2d(2)\n",
        "        self.enc3 = conv_block(128, 256)\n",
        "\n",
        "\n",
        "        self.color_fc = nn.Linear(3, 256 * 64 * 64)\n",
        "        self.bn_color = nn.BatchNorm2d(256)\n",
        "\n",
        "        self.up1 = nn.ConvTranspose2d(256, 128, 2, stride=2)\n",
        "        self.dec1 = conv_block(256, 128)\n",
        "        self.up2 = nn.ConvTranspose2d(128, 64, 2, stride=2)\n",
        "        self.dec2 = conv_block(128, 64)\n",
        "\n",
        "        self.final = nn.Conv2d(64, output_channels, 1)\n",
        "\n",
        "    def forward(self, x, color):\n",
        "        B, _, H, W = x.shape\n",
        "\n",
        "        # Encoder forward pass\n",
        "        e1 = self.enc1(x)\n",
        "        e2 = self.enc2(self.pool1(e1))\n",
        "        e3 = self.enc3(self.pool2(e2))\n",
        "\n",
        "\n",
        "        color_features = self.color_fc(color)\n",
        "        color_features = color_features.view(B, 256, 64, 64)\n",
        "        e3_combined = e3 + color_features\n",
        "\n",
        "        # Decoder forward pass with skip connections\n",
        "        d1 = self.up1(e3_combined)\n",
        "        d1 = torch.cat([d1, e2], dim=1)\n",
        "        d1 = self.dec1(d1)\n",
        "\n",
        "        d2 = self.up2(d1)\n",
        "        d2 = torch.cat([d2, e1], dim=1)\n",
        "        d2 = self.dec2(d2)\n",
        "\n",
        "        return self.final(d2)"
      ],
      "metadata": {
        "id": "QubbuqVQ6dT8"
      },
      "execution_count": 4,
      "outputs": []
    },
    {
      "cell_type": "markdown",
      "source": [
        "## TRAINING SCRIPT"
      ],
      "metadata": {
        "id": "8F2egNjh-QLc"
      }
    },
    {
      "cell_type": "code",
      "source": [
        "from tqdm import tqdm\n",
        "from torch.utils.data import Dataset, DataLoader\n",
        "wandb.init(project=\"ayna-polygon-coloring\", name=\"unet-training-50 epoch\")\n",
        "\n",
        "device = torch.device(\"cuda\" if torch.cuda.is_available() else \"cpu\")\n",
        "\n",
        "transform = T.Compose([\n",
        "    T.Resize((256, 256)),\n",
        "    T.ToTensor()\n",
        "])\n",
        "\n",
        "train_ds = PolygonColorDataset(\"dataset/dataset/training\", transform)\n",
        "val_ds = PolygonColorDataset(\"dataset/dataset/validation\", transform)\n",
        "\n",
        "train_loader = DataLoader(train_ds, batch_size=16, shuffle=True)\n",
        "val_loader = DataLoader(val_ds, batch_size=16)\n",
        "\n",
        "model = UNet().to(device)\n",
        "optimizer = torch.optim.Adam(model.parameters(), lr=1e-3)\n",
        "criterion = nn.L1Loss()\n",
        "\n",
        "#Training\n",
        "for epoch in range(200):\n",
        "    model.train()\n",
        "    train_loss = 0\n",
        "    for x, c, y in tqdm(train_loader):\n",
        "        x, c, y = x.to(device), c.to(device), y.to(device)\n",
        "\n",
        "        optimizer.zero_grad()\n",
        "        y_pred = model(x, c)\n",
        "        loss = criterion(y_pred, y)\n",
        "        loss.backward()\n",
        "        optimizer.step()\n",
        "\n",
        "        train_loss += loss.item()\n",
        "\n",
        "    wandb.log({\"epoch\": epoch, \"train_loss\": train_loss / len(train_loader)})\n",
        "\n",
        "\n",
        "    model.eval()\n",
        "    val_loss = 0\n",
        "    with torch.no_grad():\n",
        "        for x, c, y in val_loader:\n",
        "            x, c, y = x.to(device), c.to(device), y.to(device)\n",
        "            y_pred = model(x, c)\n",
        "            loss = criterion(y_pred, y)\n",
        "            val_loss += loss.item()\n",
        "\n",
        "        wandb.log({\"epoch\": epoch, \"val_loss\": val_loss / len(val_loader)})\n",
        "\n",
        "\n",
        "torch.save(model.state_dict(), \"unet_model.pth\")\n",
        "print(\"Training complete and model saved.\")\n"
      ],
      "metadata": {
        "colab": {
          "base_uri": "https://localhost:8080/",
          "height": 1000
        },
        "id": "_g9WMNCj6iZ-",
        "outputId": "52aa5b41-a574-4876-80ab-6bda108d4891"
      },
      "execution_count": 8,
      "outputs": [
        {
          "output_type": "display_data",
          "data": {
            "text/plain": [
              "<IPython.core.display.HTML object>"
            ],
            "text/html": [
              "Finishing previous runs because reinit is set to 'default'."
            ]
          },
          "metadata": {}
        },
        {
          "output_type": "display_data",
          "data": {
            "text/plain": [
              "<IPython.core.display.HTML object>"
            ],
            "text/html": []
          },
          "metadata": {}
        },
        {
          "output_type": "display_data",
          "data": {
            "text/plain": [
              "<IPython.core.display.HTML object>"
            ],
            "text/html": [
              " View run <strong style=\"color:#cdcd00\">unet-training-50 epoch</strong> at: <a href='https://wandb.ai/sebin2308-mbccet/ayna-polygon-coloring/runs/rsaox0b4' target=\"_blank\">https://wandb.ai/sebin2308-mbccet/ayna-polygon-coloring/runs/rsaox0b4</a><br> View project at: <a href='https://wandb.ai/sebin2308-mbccet/ayna-polygon-coloring' target=\"_blank\">https://wandb.ai/sebin2308-mbccet/ayna-polygon-coloring</a><br>Synced 5 W&B file(s), 0 media file(s), 0 artifact file(s) and 0 other file(s)"
            ]
          },
          "metadata": {}
        },
        {
          "output_type": "display_data",
          "data": {
            "text/plain": [
              "<IPython.core.display.HTML object>"
            ],
            "text/html": [
              "Find logs at: <code>./wandb/run-20250804_162336-rsaox0b4/logs</code>"
            ]
          },
          "metadata": {}
        },
        {
          "output_type": "display_data",
          "data": {
            "text/plain": [
              "<IPython.core.display.HTML object>"
            ],
            "text/html": [
              "Tracking run with wandb version 0.21.0"
            ]
          },
          "metadata": {}
        },
        {
          "output_type": "display_data",
          "data": {
            "text/plain": [
              "<IPython.core.display.HTML object>"
            ],
            "text/html": [
              "Run data is saved locally in <code>/content/wandb/run-20250804_162403-lx5ubdus</code>"
            ]
          },
          "metadata": {}
        },
        {
          "output_type": "display_data",
          "data": {
            "text/plain": [
              "<IPython.core.display.HTML object>"
            ],
            "text/html": [
              "Syncing run <strong><a href='https://wandb.ai/sebin2308-mbccet/ayna-polygon-coloring/runs/lx5ubdus' target=\"_blank\">unet-training-50 epoch</a></strong> to <a href='https://wandb.ai/sebin2308-mbccet/ayna-polygon-coloring' target=\"_blank\">Weights & Biases</a> (<a href='https://wandb.me/developer-guide' target=\"_blank\">docs</a>)<br>"
            ]
          },
          "metadata": {}
        },
        {
          "output_type": "display_data",
          "data": {
            "text/plain": [
              "<IPython.core.display.HTML object>"
            ],
            "text/html": [
              " View project at <a href='https://wandb.ai/sebin2308-mbccet/ayna-polygon-coloring' target=\"_blank\">https://wandb.ai/sebin2308-mbccet/ayna-polygon-coloring</a>"
            ]
          },
          "metadata": {}
        },
        {
          "output_type": "display_data",
          "data": {
            "text/plain": [
              "<IPython.core.display.HTML object>"
            ],
            "text/html": [
              " View run at <a href='https://wandb.ai/sebin2308-mbccet/ayna-polygon-coloring/runs/lx5ubdus' target=\"_blank\">https://wandb.ai/sebin2308-mbccet/ayna-polygon-coloring/runs/lx5ubdus</a>"
            ]
          },
          "metadata": {}
        },
        {
          "output_type": "stream",
          "name": "stderr",
          "text": [
            "100%|██████████| 4/4 [00:02<00:00,  1.39it/s]\n",
            "100%|██████████| 4/4 [00:01<00:00,  2.31it/s]\n",
            "100%|██████████| 4/4 [00:01<00:00,  2.33it/s]\n",
            "100%|██████████| 4/4 [00:01<00:00,  2.32it/s]\n",
            "100%|██████████| 4/4 [00:01<00:00,  2.24it/s]\n",
            "100%|██████████| 4/4 [00:01<00:00,  2.11it/s]\n",
            "100%|██████████| 4/4 [00:01<00:00,  2.33it/s]\n",
            "100%|██████████| 4/4 [00:01<00:00,  2.30it/s]\n",
            "100%|██████████| 4/4 [00:01<00:00,  2.31it/s]\n",
            "100%|██████████| 4/4 [00:01<00:00,  2.32it/s]\n",
            "100%|██████████| 4/4 [00:01<00:00,  2.32it/s]\n",
            "100%|██████████| 4/4 [00:01<00:00,  2.23it/s]\n",
            "100%|██████████| 4/4 [00:01<00:00,  2.21it/s]\n",
            "100%|██████████| 4/4 [00:01<00:00,  2.30it/s]\n",
            "100%|██████████| 4/4 [00:01<00:00,  2.29it/s]\n",
            "100%|██████████| 4/4 [00:01<00:00,  2.29it/s]\n",
            "100%|██████████| 4/4 [00:01<00:00,  2.28it/s]\n",
            "100%|██████████| 4/4 [00:01<00:00,  2.17it/s]\n",
            "100%|██████████| 4/4 [00:01<00:00,  2.23it/s]\n",
            "100%|██████████| 4/4 [00:01<00:00,  2.22it/s]\n",
            "100%|██████████| 4/4 [00:01<00:00,  2.27it/s]\n",
            "100%|██████████| 4/4 [00:01<00:00,  2.28it/s]\n",
            "100%|██████████| 4/4 [00:01<00:00,  2.28it/s]\n",
            "100%|██████████| 4/4 [00:01<00:00,  2.27it/s]\n",
            "100%|██████████| 4/4 [00:01<00:00,  2.27it/s]\n",
            "100%|██████████| 4/4 [00:01<00:00,  2.17it/s]\n",
            "100%|██████████| 4/4 [00:01<00:00,  2.19it/s]\n",
            "100%|██████████| 4/4 [00:01<00:00,  2.27it/s]\n",
            "100%|██████████| 4/4 [00:01<00:00,  2.25it/s]\n",
            "100%|██████████| 4/4 [00:01<00:00,  2.26it/s]\n",
            "100%|██████████| 4/4 [00:01<00:00,  2.25it/s]\n",
            "100%|██████████| 4/4 [00:01<00:00,  2.23it/s]\n",
            "100%|██████████| 4/4 [00:01<00:00,  2.13it/s]\n",
            "100%|██████████| 4/4 [00:01<00:00,  2.23it/s]\n",
            "100%|██████████| 4/4 [00:01<00:00,  2.24it/s]\n",
            "100%|██████████| 4/4 [00:01<00:00,  2.24it/s]\n",
            "100%|██████████| 4/4 [00:01<00:00,  2.23it/s]\n",
            "100%|██████████| 4/4 [00:01<00:00,  2.26it/s]\n",
            "100%|██████████| 4/4 [00:01<00:00,  2.21it/s]\n",
            "100%|██████████| 4/4 [00:01<00:00,  2.15it/s]\n",
            "100%|██████████| 4/4 [00:01<00:00,  2.21it/s]\n",
            "100%|██████████| 4/4 [00:01<00:00,  2.25it/s]\n",
            "100%|██████████| 4/4 [00:01<00:00,  2.23it/s]\n",
            "100%|██████████| 4/4 [00:01<00:00,  2.23it/s]\n",
            "100%|██████████| 4/4 [00:01<00:00,  2.24it/s]\n",
            "100%|██████████| 4/4 [00:01<00:00,  2.20it/s]\n",
            "100%|██████████| 4/4 [00:01<00:00,  2.15it/s]\n",
            "100%|██████████| 4/4 [00:01<00:00,  2.24it/s]\n",
            "100%|██████████| 4/4 [00:01<00:00,  2.23it/s]\n",
            "100%|██████████| 4/4 [00:01<00:00,  2.25it/s]\n",
            "100%|██████████| 4/4 [00:01<00:00,  2.25it/s]\n",
            "100%|██████████| 4/4 [00:01<00:00,  2.24it/s]\n",
            "100%|██████████| 4/4 [00:01<00:00,  2.17it/s]\n",
            "100%|██████████| 4/4 [00:01<00:00,  2.17it/s]\n",
            "100%|██████████| 4/4 [00:01<00:00,  2.25it/s]\n",
            "100%|██████████| 4/4 [00:01<00:00,  2.24it/s]\n",
            "100%|██████████| 4/4 [00:01<00:00,  2.23it/s]\n",
            "100%|██████████| 4/4 [00:01<00:00,  2.25it/s]\n",
            "100%|██████████| 4/4 [00:01<00:00,  2.26it/s]\n",
            "100%|██████████| 4/4 [00:01<00:00,  2.16it/s]\n",
            "100%|██████████| 4/4 [00:01<00:00,  2.20it/s]\n",
            "100%|██████████| 4/4 [00:01<00:00,  2.26it/s]\n",
            "100%|██████████| 4/4 [00:01<00:00,  2.26it/s]\n",
            "100%|██████████| 4/4 [00:01<00:00,  2.23it/s]\n",
            "100%|██████████| 4/4 [00:01<00:00,  2.26it/s]\n",
            "100%|██████████| 4/4 [00:01<00:00,  2.27it/s]\n",
            "100%|██████████| 4/4 [00:01<00:00,  2.16it/s]\n",
            "100%|██████████| 4/4 [00:01<00:00,  2.22it/s]\n",
            "100%|██████████| 4/4 [00:01<00:00,  2.26it/s]\n",
            "100%|██████████| 4/4 [00:01<00:00,  2.26it/s]\n",
            "100%|██████████| 4/4 [00:01<00:00,  2.25it/s]\n",
            "100%|██████████| 4/4 [00:01<00:00,  2.25it/s]\n",
            "100%|██████████| 4/4 [00:01<00:00,  2.23it/s]\n",
            "100%|██████████| 4/4 [00:01<00:00,  2.12it/s]\n",
            "100%|██████████| 4/4 [00:01<00:00,  2.23it/s]\n",
            "100%|██████████| 4/4 [00:01<00:00,  2.24it/s]\n",
            "100%|██████████| 4/4 [00:01<00:00,  2.25it/s]\n",
            "100%|██████████| 4/4 [00:01<00:00,  2.27it/s]\n",
            "100%|██████████| 4/4 [00:01<00:00,  2.27it/s]\n",
            "100%|██████████| 4/4 [00:01<00:00,  2.23it/s]\n",
            "100%|██████████| 4/4 [00:01<00:00,  2.15it/s]\n",
            "100%|██████████| 4/4 [00:01<00:00,  2.25it/s]\n",
            "100%|██████████| 4/4 [00:01<00:00,  2.24it/s]\n",
            "100%|██████████| 4/4 [00:01<00:00,  2.24it/s]\n",
            "100%|██████████| 4/4 [00:01<00:00,  2.25it/s]\n",
            "100%|██████████| 4/4 [00:01<00:00,  2.26it/s]\n",
            "100%|██████████| 4/4 [00:01<00:00,  2.20it/s]\n",
            "100%|██████████| 4/4 [00:01<00:00,  2.19it/s]\n",
            "100%|██████████| 4/4 [00:01<00:00,  2.25it/s]\n",
            "100%|██████████| 4/4 [00:01<00:00,  2.25it/s]\n",
            "100%|██████████| 4/4 [00:01<00:00,  2.23it/s]\n",
            "100%|██████████| 4/4 [00:01<00:00,  2.25it/s]\n",
            "100%|██████████| 4/4 [00:01<00:00,  2.25it/s]\n",
            "100%|██████████| 4/4 [00:01<00:00,  2.18it/s]\n",
            "100%|██████████| 4/4 [00:01<00:00,  2.18it/s]\n",
            "100%|██████████| 4/4 [00:01<00:00,  2.23it/s]\n",
            "100%|██████████| 4/4 [00:01<00:00,  2.26it/s]\n",
            "100%|██████████| 4/4 [00:01<00:00,  2.25it/s]\n",
            "100%|██████████| 4/4 [00:01<00:00,  2.27it/s]\n",
            "100%|██████████| 4/4 [00:01<00:00,  2.19it/s]\n",
            "100%|██████████| 4/4 [00:01<00:00,  2.11it/s]\n",
            "100%|██████████| 4/4 [00:01<00:00,  2.20it/s]\n",
            "100%|██████████| 4/4 [00:01<00:00,  2.25it/s]\n",
            "100%|██████████| 4/4 [00:01<00:00,  2.28it/s]\n",
            "100%|██████████| 4/4 [00:01<00:00,  2.27it/s]\n",
            "100%|██████████| 4/4 [00:01<00:00,  2.25it/s]\n",
            "100%|██████████| 4/4 [00:01<00:00,  2.27it/s]\n",
            "100%|██████████| 4/4 [00:01<00:00,  2.16it/s]\n",
            "100%|██████████| 4/4 [00:01<00:00,  2.17it/s]\n",
            "100%|██████████| 4/4 [00:01<00:00,  2.26it/s]\n",
            "100%|██████████| 4/4 [00:01<00:00,  2.24it/s]\n",
            "100%|██████████| 4/4 [00:01<00:00,  2.27it/s]\n",
            "100%|██████████| 4/4 [00:01<00:00,  2.25it/s]\n",
            "100%|██████████| 4/4 [00:01<00:00,  2.25it/s]\n",
            "100%|██████████| 4/4 [00:01<00:00,  2.19it/s]\n",
            "100%|██████████| 4/4 [00:01<00:00,  2.19it/s]\n",
            "100%|██████████| 4/4 [00:01<00:00,  2.27it/s]\n",
            "100%|██████████| 4/4 [00:01<00:00,  2.24it/s]\n",
            "100%|██████████| 4/4 [00:01<00:00,  2.25it/s]\n",
            "100%|██████████| 4/4 [00:01<00:00,  2.27it/s]\n",
            "100%|██████████| 4/4 [00:01<00:00,  2.27it/s]\n",
            "100%|██████████| 4/4 [00:01<00:00,  2.16it/s]\n",
            "100%|██████████| 4/4 [00:01<00:00,  2.21it/s]\n",
            "100%|██████████| 4/4 [00:01<00:00,  2.28it/s]\n",
            "100%|██████████| 4/4 [00:01<00:00,  2.25it/s]\n",
            "100%|██████████| 4/4 [00:01<00:00,  2.29it/s]\n",
            "100%|██████████| 4/4 [00:01<00:00,  2.26it/s]\n",
            "100%|██████████| 4/4 [00:01<00:00,  2.25it/s]\n",
            "100%|██████████| 4/4 [00:01<00:00,  2.17it/s]\n",
            "100%|██████████| 4/4 [00:01<00:00,  2.24it/s]\n",
            "100%|██████████| 4/4 [00:01<00:00,  2.25it/s]\n",
            "100%|██████████| 4/4 [00:01<00:00,  2.26it/s]\n",
            "100%|██████████| 4/4 [00:01<00:00,  2.25it/s]\n",
            "100%|██████████| 4/4 [00:01<00:00,  2.24it/s]\n",
            "100%|██████████| 4/4 [00:01<00:00,  2.24it/s]\n",
            "100%|██████████| 4/4 [00:01<00:00,  2.16it/s]\n",
            "100%|██████████| 4/4 [00:01<00:00,  2.24it/s]\n",
            "100%|██████████| 4/4 [00:01<00:00,  2.27it/s]\n",
            "100%|██████████| 4/4 [00:01<00:00,  2.27it/s]\n",
            "100%|██████████| 4/4 [00:01<00:00,  2.25it/s]\n",
            "100%|██████████| 4/4 [00:01<00:00,  2.23it/s]\n",
            "100%|██████████| 4/4 [00:01<00:00,  2.20it/s]\n",
            "100%|██████████| 4/4 [00:01<00:00,  2.15it/s]\n",
            "100%|██████████| 4/4 [00:01<00:00,  2.26it/s]\n",
            "100%|██████████| 4/4 [00:01<00:00,  2.25it/s]\n",
            "100%|██████████| 4/4 [00:01<00:00,  2.26it/s]\n",
            "100%|██████████| 4/4 [00:01<00:00,  2.26it/s]\n",
            "100%|██████████| 4/4 [00:01<00:00,  2.25it/s]\n",
            "100%|██████████| 4/4 [00:01<00:00,  2.19it/s]\n",
            "100%|██████████| 4/4 [00:01<00:00,  2.16it/s]\n",
            "100%|██████████| 4/4 [00:01<00:00,  2.25it/s]\n",
            "100%|██████████| 4/4 [00:01<00:00,  2.27it/s]\n",
            "100%|██████████| 4/4 [00:01<00:00,  2.28it/s]\n",
            "100%|██████████| 4/4 [00:01<00:00,  2.27it/s]\n",
            "100%|██████████| 4/4 [00:01<00:00,  2.26it/s]\n",
            "100%|██████████| 4/4 [00:01<00:00,  2.17it/s]\n",
            "100%|██████████| 4/4 [00:01<00:00,  2.17it/s]\n",
            "100%|██████████| 4/4 [00:01<00:00,  2.26it/s]\n",
            "100%|██████████| 4/4 [00:01<00:00,  2.26it/s]\n",
            "100%|██████████| 4/4 [00:01<00:00,  2.26it/s]\n",
            "100%|██████████| 4/4 [00:01<00:00,  2.24it/s]\n",
            "100%|██████████| 4/4 [00:01<00:00,  2.27it/s]\n",
            "100%|██████████| 4/4 [00:01<00:00,  2.18it/s]\n",
            "100%|██████████| 4/4 [00:01<00:00,  2.18it/s]\n",
            "100%|██████████| 4/4 [00:01<00:00,  2.27it/s]\n",
            "100%|██████████| 4/4 [00:01<00:00,  2.23it/s]\n",
            "100%|██████████| 4/4 [00:01<00:00,  2.26it/s]\n",
            "100%|██████████| 4/4 [00:01<00:00,  2.25it/s]\n",
            "100%|██████████| 4/4 [00:01<00:00,  2.24it/s]\n",
            "100%|██████████| 4/4 [00:01<00:00,  2.15it/s]\n",
            "100%|██████████| 4/4 [00:01<00:00,  2.24it/s]\n",
            "100%|██████████| 4/4 [00:01<00:00,  2.26it/s]\n",
            "100%|██████████| 4/4 [00:01<00:00,  2.27it/s]\n",
            "100%|██████████| 4/4 [00:01<00:00,  2.28it/s]\n",
            "100%|██████████| 4/4 [00:01<00:00,  2.28it/s]\n",
            "100%|██████████| 4/4 [00:01<00:00,  2.25it/s]\n",
            "100%|██████████| 4/4 [00:01<00:00,  2.15it/s]\n",
            "100%|██████████| 4/4 [00:01<00:00,  2.22it/s]\n",
            "100%|██████████| 4/4 [00:01<00:00,  2.26it/s]\n",
            "100%|██████████| 4/4 [00:01<00:00,  2.28it/s]\n",
            "100%|██████████| 4/4 [00:01<00:00,  2.26it/s]\n",
            "100%|██████████| 4/4 [00:01<00:00,  2.27it/s]\n",
            "100%|██████████| 4/4 [00:01<00:00,  2.20it/s]\n",
            "100%|██████████| 4/4 [00:01<00:00,  2.16it/s]\n",
            "100%|██████████| 4/4 [00:01<00:00,  2.25it/s]\n",
            "100%|██████████| 4/4 [00:01<00:00,  2.25it/s]\n",
            "100%|██████████| 4/4 [00:01<00:00,  2.26it/s]\n",
            "100%|██████████| 4/4 [00:01<00:00,  2.27it/s]\n",
            "100%|██████████| 4/4 [00:01<00:00,  2.27it/s]\n",
            "100%|██████████| 4/4 [00:01<00:00,  2.22it/s]\n",
            "100%|██████████| 4/4 [00:01<00:00,  2.18it/s]\n",
            "100%|██████████| 4/4 [00:01<00:00,  2.27it/s]\n",
            "100%|██████████| 4/4 [00:01<00:00,  2.27it/s]\n",
            "100%|██████████| 4/4 [00:01<00:00,  2.26it/s]\n",
            "100%|██████████| 4/4 [00:01<00:00,  2.26it/s]\n",
            "100%|██████████| 4/4 [00:01<00:00,  2.25it/s]\n",
            "100%|██████████| 4/4 [00:01<00:00,  2.18it/s]\n",
            "100%|██████████| 4/4 [00:01<00:00,  2.18it/s]\n",
            "100%|██████████| 4/4 [00:01<00:00,  2.28it/s]\n",
            "100%|██████████| 4/4 [00:01<00:00,  2.25it/s]"
          ]
        },
        {
          "output_type": "stream",
          "name": "stdout",
          "text": [
            "Training complete and model saved.\n"
          ]
        },
        {
          "output_type": "stream",
          "name": "stderr",
          "text": [
            "\n"
          ]
        }
      ]
    },
    {
      "cell_type": "code",
      "source": [],
      "metadata": {
        "id": "ZhYsKEOv-tga"
      },
      "execution_count": 9,
      "outputs": []
    }
  ]
}