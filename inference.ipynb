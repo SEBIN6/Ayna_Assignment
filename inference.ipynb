{
  "nbformat": 4,
  "nbformat_minor": 0,
  "metadata": {
    "colab": {
      "provenance": [],
      "authorship_tag": "ABX9TyMewh8At2VUVtGc+UJZaBoc",
      "include_colab_link": true
    },
    "kernelspec": {
      "name": "python3",
      "display_name": "Python 3"
    },
    "language_info": {
      "name": "python"
    }
  },
  "cells": [
    {
      "cell_type": "markdown",
      "metadata": {
        "id": "view-in-github",
        "colab_type": "text"
      },
      "source": [
        "<a href=\"https://colab.research.google.com/github/SEBIN6/Ayna_Assignment/blob/main/inference.ipynb\" target=\"_parent\"><img src=\"https://colab.research.google.com/assets/colab-badge.svg\" alt=\"Open In Colab\"/></a>"
      ]
    },
    {
      "cell_type": "code",
      "source": [
        "import zipfile\n",
        "import os\n",
        "\n",
        "!unzip -q dataset.zip -d dataset"
      ],
      "metadata": {
        "colab": {
          "base_uri": "https://localhost:8080/"
        },
        "collapsed": true,
        "id": "CX5hRR6w3B59",
        "outputId": "317e1da7-9470-4f70-e56d-b397ffbbc3f7"
      },
      "execution_count": 9,
      "outputs": [
        {
          "output_type": "stream",
          "name": "stdout",
          "text": [
            "replace dataset/dataset/.DS_Store? [y]es, [n]o, [A]ll, [N]one, [r]ename: "
          ]
        }
      ]
    },
    {
      "cell_type": "markdown",
      "source": [
        "## Import Libraries and Define Classes"
      ],
      "metadata": {
        "id": "vHFjZk7SBeIK"
      }
    },
    {
      "cell_type": "code",
      "execution_count": 10,
      "metadata": {
        "colab": {
          "base_uri": "https://localhost:8080/"
        },
        "id": "4fVgh3x2nbM8",
        "outputId": "f92efa8b-1f21-4957-f46a-395d9efd11d8"
      },
      "outputs": [
        {
          "output_type": "stream",
          "name": "stdout",
          "text": [
            "Class definitions loaded.\n"
          ]
        }
      ],
      "source": [
        "import os\n",
        "import random\n",
        "import numpy as np\n",
        "from PIL import Image\n",
        "import json\n",
        "import matplotlib.pyplot as plt\n",
        "\n",
        "import torch\n",
        "import torch.nn as nn\n",
        "from torch.utils.data import Dataset, DataLoader\n",
        "import torchvision.transforms as T\n",
        "import torchvision.transforms.functional as TF\n",
        "\n",
        "\n",
        "class PolygonColorDataset(Dataset):\n",
        "\n",
        "    def __init__(self, root_dir, transform=None):\n",
        "        self.input_dir = os.path.join(root_dir, \"inputs\")\n",
        "        self.output_dir = os.path.join(root_dir, \"outputs\")\n",
        "        self.transform = transform\n",
        "\n",
        "        with open(os.path.join(root_dir, \"data.json\")) as f:\n",
        "            self.data = json.load(f)\n",
        "\n",
        "\n",
        "        self.color_map = {\n",
        "            \"red\": [1, 0, 0],\n",
        "            \"green\": [0, 1, 0],\n",
        "            \"blue\": [0, 0, 1],\n",
        "            \"yellow\": [1, 1, 0],\n",
        "            \"cyan\": [0, 1, 1],\n",
        "            \"magenta\": [1, 0, 1],\n",
        "            \"black\": [0, 0, 0],\n",
        "            \"white\": [1, 1, 1],\n",
        "            \"orange\": [1, 0.5, 0],\n",
        "            \"purple\": [0.5, 0, 0.5],\n",
        "        }\n",
        "\n",
        "    def __len__(self):\n",
        "        return len(self.data)\n",
        "\n",
        "    def __getitem__(self, idx):\n",
        "        item = self.data[idx]\n",
        "\n",
        "        input_name = item.get(\"input_polygon\") or item.get(\"input\") or item.get(\"input_file\")\n",
        "        output_name = item.get(\"output_image\") or item.get(\"output\") or item.get(\"output_file\")\n",
        "        color_name = item.get(\"colour\") or item.get(\"color\")\n",
        "\n",
        "        if input_name is None or output_name is None or color_name is None:\n",
        "            raise KeyError(f\"Missing expected keys in data item: {item}\")\n",
        "\n",
        "        input_path = os.path.join(self.input_dir, input_name)\n",
        "        output_path = os.path.join(self.output_dir, output_name)\n",
        "\n",
        "        if not os.path.exists(input_path):\n",
        "            raise FileNotFoundError(f\"Input image not found: {input_path}\")\n",
        "        if not os.path.exists(output_path):\n",
        "            raise FileNotFoundError(f\"Output image not found: {output_path}\")\n",
        "\n",
        "\n",
        "        input_img = Image.open(input_path).convert(\"L\")  # Grayscale\n",
        "        output_img = Image.open(output_path).convert(\"RGB\")  # Target colored\n",
        "\n",
        "\n",
        "        if self.transform:\n",
        "            input_img = self.transform(input_img)\n",
        "            output_img = self.transform(output_img)\n",
        "        else:\n",
        "            to_tensor = T.ToTensor()\n",
        "            input_img = to_tensor(input_img)\n",
        "            output_img = to_tensor(output_img)\n",
        "\n",
        "\n",
        "        color_key = color_name.lower()\n",
        "        if color_key not in self.color_map:\n",
        "            print(f\"Warning: color '{color_name}' not in map, defaulting to black\")\n",
        "            color_vec = torch.tensor(self.color_map[\"black\"], dtype=torch.float32)\n",
        "        else:\n",
        "            color_vec = torch.tensor(self.color_map[color_key], dtype=torch.float32)\n",
        "\n",
        "        return input_img, color_vec, output_img\n",
        "\n",
        "class UNet(nn.Module):\n",
        "    \"\"\"\n",
        "    The UNet model architecture for image-to-image translation.\n",
        "    It takes a grayscale image and a color vector as input to produce a colored image.\n",
        "    \"\"\"\n",
        "    def __init__(self, input_channels=4, output_channels=3):\n",
        "        super(UNet, self).__init__()\n",
        "\n",
        "        # Helper function to create a standard convolutional block\n",
        "        def conv_block(in_c, out_c):\n",
        "            return nn.Sequential(\n",
        "                nn.Conv2d(in_c, out_c, 3, padding=1),\n",
        "                nn.ReLU(inplace=True),\n",
        "                nn.Conv2d(out_c, out_c, 3, padding=1),\n",
        "                nn.ReLU(inplace=True)\n",
        "            )\n",
        "\n",
        "\n",
        "        self.enc1 = conv_block(input_channels, 64)\n",
        "        self.pool1 = nn.MaxPool2d(2)\n",
        "        self.enc2 = conv_block(64, 128)\n",
        "        self.pool2 = nn.MaxPool2d(2)\n",
        "        self.enc3 = conv_block(128, 256)\n",
        "\n",
        "\n",
        "        self.up1 = nn.ConvTranspose2d(256, 128, 2, stride=2)\n",
        "        self.dec1 = conv_block(256, 128)\n",
        "        self.up2 = nn.ConvTranspose2d(128, 64, 2, stride=2)\n",
        "        self.dec2 = conv_block(128, 64)\n",
        "\n",
        "        # Final output layer\n",
        "        self.final = nn.Conv2d(64, output_channels, 1)\n",
        "\n",
        "    def forward(self, x, color):\n",
        "        B, _, H, W = x.shape\n",
        "        color_map = color.view(B, 3, 1, 1).expand(B, 3, H, W)\n",
        "        x = torch.cat([x, color_map], dim=1)\n",
        "\n",
        "        # Encoder forward pass\n",
        "        e1 = self.enc1(x)\n",
        "        e2 = self.enc2(self.pool1(e1))\n",
        "        e3 = self.enc3(self.pool2(e2))\n",
        "\n",
        "        # Decoder forward pass with skip connections\n",
        "        d1 = self.up1(e3)\n",
        "        d1 = torch.cat([d1, e2], dim=1)\n",
        "        d1 = self.dec1(d1)\n",
        "\n",
        "        d2 = self.up2(d1)\n",
        "        d2 = torch.cat([d2, e1], dim=1)\n",
        "        d2 = self.dec2(d2)\n",
        "\n",
        "        return self.final(d2)\n",
        "\n",
        "print(\"Class definitions loaded.\")\n"
      ]
    },
    {
      "cell_type": "markdown",
      "source": [
        "## Load Model and Data"
      ],
      "metadata": {
        "id": "NNacRDopBTiF"
      }
    },
    {
      "cell_type": "code",
      "source": [
        "device = torch.device(\"cuda\" if torch.cuda.is_available() else \"cpu\")\n",
        "\n",
        "transform = T.Compose([\n",
        "    T.Resize((128, 128)),\n",
        "    T.ToTensor(),\n",
        "])\n",
        "\n",
        "model = UNet().to(device)\n",
        "model.load_state_dict(torch.load(\"unet_model.pth\", map_location=device))\n",
        "model.eval()\n",
        "\n",
        "test_ds = PolygonColorDataset(\"dataset/dataset/validation\", transform)\n",
        "test_loader = DataLoader(test_ds, batch_size=1)"
      ],
      "metadata": {
        "id": "efttBnPM2whT"
      },
      "execution_count": 11,
      "outputs": []
    },
    {
      "cell_type": "markdown",
      "source": [
        "## Perform Inference and Visualize a Random Sample"
      ],
      "metadata": {
        "id": "t9Jm8qybBNO8"
      }
    },
    {
      "cell_type": "code",
      "source": [
        "print(\"Performing inference on a random sample from the test set...\")\n",
        "if len(test_ds) > 0:\n",
        "    sample_idx = random.randint(0, len(test_ds) - 1)\n",
        "    input_img_tensor, color_vec_tensor, target_img_tensor = test_ds[sample_idx]\n",
        "\n",
        "    input_img_tensor = input_img_tensor.unsqueeze(0).to(device)\n",
        "    color_vec_tensor = color_vec_tensor.unsqueeze(0).to(device)\n",
        "    target_img_tensor = target_img_tensor.unsqueeze(0).to(device)\n",
        "\n",
        "    with torch.no_grad():\n",
        "        prediction_tensor = model(input_img_tensor, color_vec_tensor)\n",
        "\n",
        "    def tensor_to_image(tensor):\n",
        "        tensor = tensor.cpu().squeeze(0).clamp(0, 1)\n",
        "        return T.ToPILImage()(tensor)\n",
        "\n",
        "    input_image = tensor_to_image(input_img_tensor)\n",
        "    target_image = tensor_to_image(target_img_tensor)\n",
        "    predicted_image = tensor_to_image(prediction_tensor)\n",
        "\n",
        "    sample_item = test_ds.data[sample_idx]\n",
        "    color_name = sample_item.get(\"colour\") or sample_item.get(\"color\")\n",
        "\n",
        "    fig, ax = plt.subplots(1, 3, figsize=(15, 5))\n",
        "    fig.suptitle(f\"Inference Results for color: {color_name}\", fontsize=16)\n",
        "\n",
        "    ax[0].imshow(input_image, cmap='gray')\n",
        "    ax[0].set_title(\"Input (Grayscale)\")\n",
        "    ax[0].axis('off')\n",
        "\n",
        "    ax[1].imshow(target_image)\n",
        "    ax[1].set_title(\"Target (Ground Truth)\")\n",
        "    ax[1].axis('off')\n",
        "\n",
        "    ax[2].imshow(predicted_image)\n",
        "    ax[2].set_title(\"Model Prediction\")\n",
        "    ax[2].axis('off')\n",
        "\n",
        "    plt.show()\n",
        "\n",
        "    print(\"Inference complete.\")"
      ],
      "metadata": {
        "colab": {
          "base_uri": "https://localhost:8080/",
          "height": 282
        },
        "id": "IytTtk3C3Ohc",
        "outputId": "760331d4-6797-48af-b298-2d4e7930ad4e"
      },
      "execution_count": 13,
      "outputs": [
        {
          "output_type": "stream",
          "name": "stdout",
          "text": [
            "Performing inference on a random sample from the test set...\n"
          ]
        },
        {
          "output_type": "display_data",
          "data": {
            "text/plain": [
              "<Figure size 1500x500 with 3 Axes>"
            ],
            "image/png": "[encoded data removed]"
          },
          "metadata": {}
        },
        {
          "output_type": "stream",
          "name": "stdout",
          "text": [
            "Inference complete.\n"
          ]
        }
      ]
    }
  ]
}